{
 "cells": [
  {
   "cell_type": "code",
   "execution_count": null,
   "metadata": {},
   "outputs": [],
   "source": [
    "\"\"\"\n",
    "   @script-author : Josmi Agnes Jose\n",
    "   @script-discription: Attempt to write K- Means without a package\n",
    "   @python-version: python  -3.8\n",
    "   \n",
    "\"\"\""
   ]
  },
  {
   "cell_type": "markdown",
   "metadata": {},
   "source": [
    "\n"
   ]
  },
  {
   "cell_type": "markdown",
   "metadata": {},
   "source": [
    "# K-means Algorithm"
   ]
  },
  {
   "cell_type": "markdown",
   "metadata": {},
   "source": [
    "\n"
   ]
  },
  {
   "cell_type": "markdown",
   "metadata": {},
   "source": [
    " Here, I have defined a class named K_means which takes as input :\n",
    "\n",
    "* The number of clusters we want to create (clusters/k).\n",
    "* The number of iterations to carry out (iteration/t).\n",
    "\n",
    "This class has a method *predict* which takes as input the dataset and gives the clusters as output.\n",
    "\n",
    "This function implements the K-Means algorithm based on Euclidean Distance."
   ]
  },
  {
   "cell_type": "markdown",
   "metadata": {},
   "source": [
    "\n"
   ]
  },
  {
   "cell_type": "code",
   "execution_count": 1,
   "metadata": {},
   "outputs": [],
   "source": [
    "import random"
   ]
  },
  {
   "cell_type": "markdown",
   "metadata": {},
   "source": [
    "\n"
   ]
  },
  {
   "cell_type": "code",
   "execution_count": 2,
   "metadata": {},
   "outputs": [],
   "source": [
    "class K_means():\n",
    "    \n",
    "    def __init__(self,clusters,iteration):\n",
    "        self.k=clusters\n",
    "        self.t=iteration\n",
    "        \n",
    "    def predict(self,dataset):\n",
    "        \n",
    "        self.n=len(dataset)\n",
    "        \n",
    "    # function to compute the euclidean distance between two data points.         \n",
    "        def compute_ed(vector_1,vector_2):\n",
    "            if len(vector_1) != len(vector_2):\n",
    "                print(\"Error occured - Both vectors should be of the same length\")\n",
    "                return None\n",
    "            else:\n",
    "                sqr_sum=0\n",
    "                for i in range(0,len(vector_1)):\n",
    "                    val= (vector_1[i]-vector_2[i])**2\n",
    "                    sqr_sum = sqr_sum +val\n",
    "                self.ed=sqr_sum**0.5\n",
    "                return self.ed\n",
    "            \n",
    "    # finding the random centroids to start with.\n",
    "        self.random_index = random.sample(range(self.n),self.k)    \n",
    "        self.centroids_new={}\n",
    "        for index,k_index in enumerate(self.random_index):\n",
    "            self.centroids_new[str(index)]=dataset[k_index]\n",
    "        self.centroids_initial=self.centroids_new.copy()\n",
    "          \n",
    "    # Conducting iterations to update the centroids.\n",
    "        for i in range(self.t):\n",
    "    \n",
    "            self.output_distances ={}\n",
    "            for index,row in enumerate(dataset):\n",
    "                self.output_distances[index]=[]\n",
    "    \n",
    "            self.output_neighbor={}\n",
    "            for k_index in range(self.k):\n",
    "                self.output_neighbor[str(k_index)]=[]\n",
    "    \n",
    "    # appending the distance from a particular data point to each centroid in a list.\n",
    "    # That list is then assigned as the value to the key (which is the index of that data point) in a dictionary.\n",
    "    \n",
    "            for index,row in enumerate(dataset):\n",
    "                for key in self.centroids_new:\n",
    "                    dist=compute_ed(self.centroids_new[key],row)\n",
    "                    self.output_distances[index].append(dist)\n",
    "            \n",
    "    # Find the datapoints that fall in the vicinity of each centroid. And create a list containing \n",
    "    # indexes of the data points that share the same centroid.\n",
    "    # These lists are assigned as values to the key (which denote a particular centroid) in a dictionary.\n",
    "            \n",
    "            for key,value in  self.output_distances.items():\n",
    "                for i in range(self.k):\n",
    "                    if value.index(min(value))==i:\n",
    "                        self.output_neighbor[str(i)].append(key)\n",
    "                \n",
    "    # Finding the new new centroids\n",
    "            self.centroids_new={}\n",
    "            for a,b in self.output_neighbor.items():\n",
    "                for c in a :\n",
    "                    new_centroid=[]\n",
    "                    for j in range(len(dataset[0])):\n",
    "                        listing=[]\n",
    "                        for i in b:\n",
    "                            listing.append(dataset[i][j])\n",
    "                        a=sum(listing)/len(listing)\n",
    "                        new_centroid.append(a)\n",
    "                    self.centroids_new[c]=new_centroid\n",
    "                    \n",
    "        for l in range(self.k):\n",
    "            print(\"cluster_%d = %s\" % (l, self.output_neighbor[str(l)]))\n",
    "            "
   ]
  },
  {
   "cell_type": "markdown",
   "metadata": {},
   "source": [
    "\n"
   ]
  },
  {
   "cell_type": "markdown",
   "metadata": {},
   "source": [
    "\n"
   ]
  },
  {
   "cell_type": "markdown",
   "metadata": {},
   "source": [
    "**Example :**"
   ]
  },
  {
   "cell_type": "code",
   "execution_count": 3,
   "metadata": {},
   "outputs": [],
   "source": [
    "# Input the data\n",
    "dataset =[\n",
    "    # cluster 1\n",
    "    [5.1,3.5,1.4,0.2],\n",
    "    [4.9,3,1.4,0.2],\n",
    "    [4.7,3.2,1.3,0.2],\n",
    "    [4.6,3.1,1.5,0.2],\n",
    "    [5,3.6,1.4,0.2],\n",
    "    # cluster 2\n",
    "    [6.4,3.2,4.5,1.5],\n",
    "    [6.9,3.1,4.9,1.5],\n",
    "    [5.5,2.3,4,1.3],\n",
    "    [6.5,2.8,4.6,1.5],\n",
    "    [5.7,2.8,4.5,1.3],\n",
    "    # cluster 3\n",
    "    [6.3,3.3,6,2.5],\n",
    "    [5.8,2.7,5.1,1.9],\n",
    "    [7.1,3,5.9,2.1],\n",
    "    [6.3,2.9,5.6,1.8],\n",
    "    [6.5,3,5.8,2.2],\n",
    "    [7.6,3,6.6,2.1],\n",
    "    [4.9,2.5,4.5,1.7],\n",
    "    [7.3,2.9,6.3,1.8]\n",
    "]"
   ]
  },
  {
   "cell_type": "markdown",
   "metadata": {},
   "source": [
    "\n",
    "\n",
    "\n"
   ]
  },
  {
   "cell_type": "markdown",
   "metadata": {},
   "source": [
    "\n"
   ]
  },
  {
   "cell_type": "markdown",
   "metadata": {},
   "source": [
    "###### 1"
   ]
  },
  {
   "cell_type": "code",
   "execution_count": 4,
   "metadata": {},
   "outputs": [],
   "source": [
    "# Creating an object of the class.\n",
    "a=K_means(3,15)\n"
   ]
  },
  {
   "cell_type": "code",
   "execution_count": 5,
   "metadata": {},
   "outputs": [
    {
     "name": "stdout",
     "output_type": "stream",
     "text": [
      "cluster_0 = [5, 6, 7, 8, 9, 11, 16]\n",
      "cluster_1 = [0, 1, 2, 3, 4]\n",
      "cluster_2 = [10, 12, 13, 14, 15, 17]\n"
     ]
    }
   ],
   "source": [
    "# Predicting the clusters.\n",
    "a.predict(dataset)"
   ]
  },
  {
   "cell_type": "code",
   "execution_count": 6,
   "metadata": {},
   "outputs": [
    {
     "data": {
      "text/plain": [
       "[13, 2, 10]"
      ]
     },
     "execution_count": 6,
     "metadata": {},
     "output_type": "execute_result"
    }
   ],
   "source": [
    "# Random indexesof initial centroids.\n",
    "a.random_index"
   ]
  },
  {
   "cell_type": "code",
   "execution_count": 7,
   "metadata": {},
   "outputs": [
    {
     "data": {
      "text/plain": [
       "{'0': [6.3, 2.9, 5.6, 1.8], '1': [4.7, 3.2, 1.3, 0.2], '2': [6.3, 3.3, 6, 2.5]}"
      ]
     },
     "execution_count": 7,
     "metadata": {},
     "output_type": "execute_result"
    }
   ],
   "source": [
    "# Initial centroid data points.\n",
    "a.centroids_initial"
   ]
  },
  {
   "cell_type": "code",
   "execution_count": 8,
   "metadata": {},
   "outputs": [
    {
     "data": {
      "text/plain": [
       "{'0': [5.957142857142856,\n",
       "  2.771428571428572,\n",
       "  4.585714285714286,\n",
       "  1.5285714285714285],\n",
       " '1': [4.859999999999999, 3.28, 1.4, 0.2],\n",
       " '2': [6.849999999999999,\n",
       "  3.016666666666666,\n",
       "  6.033333333333332,\n",
       "  2.0833333333333335]}"
      ]
     },
     "execution_count": 8,
     "metadata": {},
     "output_type": "execute_result"
    }
   ],
   "source": [
    "# Final calculated centroids.\n",
    "a.centroids_new"
   ]
  },
  {
   "cell_type": "code",
   "execution_count": 9,
   "metadata": {},
   "outputs": [
    {
     "data": {
      "text/plain": [
       "{'0': [5, 6, 7, 8, 9, 11, 16],\n",
       " '1': [0, 1, 2, 3, 4],\n",
       " '2': [10, 12, 13, 14, 15, 17]}"
      ]
     },
     "execution_count": 9,
     "metadata": {},
     "output_type": "execute_result"
    }
   ],
   "source": [
    "# Clusters formed initially\n",
    "a.output_neighbor"
   ]
  },
  {
   "cell_type": "markdown",
   "metadata": {},
   "source": [
    "\n"
   ]
  },
  {
   "cell_type": "markdown",
   "metadata": {},
   "source": [
    "#### 2\n"
   ]
  },
  {
   "cell_type": "code",
   "execution_count": 10,
   "metadata": {},
   "outputs": [],
   "source": [
    "b=K_means(3,10)"
   ]
  },
  {
   "cell_type": "code",
   "execution_count": 11,
   "metadata": {},
   "outputs": [
    {
     "name": "stdout",
     "output_type": "stream",
     "text": [
      "cluster_0 = [5, 7, 8, 9, 11, 16]\n",
      "cluster_1 = [6, 10, 12, 13, 14, 15, 17]\n",
      "cluster_2 = [0, 1, 2, 3, 4]\n"
     ]
    }
   ],
   "source": [
    "b.predict(dataset)"
   ]
  },
  {
   "cell_type": "code",
   "execution_count": 12,
   "metadata": {},
   "outputs": [
    {
     "data": {
      "text/plain": [
       "[16, 13, 7]"
      ]
     },
     "execution_count": 12,
     "metadata": {},
     "output_type": "execute_result"
    }
   ],
   "source": [
    "b.random_index"
   ]
  },
  {
   "cell_type": "code",
   "execution_count": 13,
   "metadata": {},
   "outputs": [
    {
     "data": {
      "text/plain": [
       "{'0': [4.9, 2.5, 4.5, 1.7], '1': [6.3, 2.9, 5.6, 1.8], '2': [5.5, 2.3, 4, 1.3]}"
      ]
     },
     "execution_count": 13,
     "metadata": {},
     "output_type": "execute_result"
    }
   ],
   "source": [
    "b.centroids_initial"
   ]
  },
  {
   "cell_type": "code",
   "execution_count": 14,
   "metadata": {},
   "outputs": [
    {
     "data": {
      "text/plain": [
       "{'0': [5.8, 2.716666666666667, 4.533333333333334, 1.5333333333333332],\n",
       " '1': [6.857142857142856, 3.0285714285714285, 5.871428571428571, 2.0],\n",
       " '2': [4.859999999999999, 3.28, 1.4, 0.2]}"
      ]
     },
     "execution_count": 14,
     "metadata": {},
     "output_type": "execute_result"
    }
   ],
   "source": [
    "b.centroids_new"
   ]
  },
  {
   "cell_type": "markdown",
   "metadata": {},
   "source": [
    "\n"
   ]
  },
  {
   "cell_type": "markdown",
   "metadata": {},
   "source": [
    "\n",
    "\n",
    "\n"
   ]
  }
 ],
 "metadata": {
  "kernelspec": {
   "display_name": "Python 3",
   "language": "python",
   "name": "python3"
  },
  "language_info": {
   "codemirror_mode": {
    "name": "ipython",
    "version": 3
   },
   "file_extension": ".py",
   "mimetype": "text/x-python",
   "name": "python",
   "nbconvert_exporter": "python",
   "pygments_lexer": "ipython3",
   "version": "3.8.3"
  }
 },
 "nbformat": 4,
 "nbformat_minor": 4
}
