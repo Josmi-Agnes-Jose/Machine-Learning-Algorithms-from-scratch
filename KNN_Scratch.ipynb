{
 "cells": [
  {
   "cell_type": "code",
   "execution_count": null,
   "metadata": {},
   "outputs": [],
   "source": [
    "\"\"\"\n",
    "   @script-author : Josmi Agnes Jose\n",
    "   @script-discription: Attempt to write KNN without a package\n",
    "   @python-version: python  -3.8\n",
    "   \n",
    "\"\"\""
   ]
  },
  {
   "cell_type": "markdown",
   "metadata": {},
   "source": [
    "\n"
   ]
  },
  {
   "cell_type": "markdown",
   "metadata": {},
   "source": [
    "<center> <font size=6 color=brown>K-Nearest Neighbors </font> </center>"
   ]
  },
  {
   "cell_type": "markdown",
   "metadata": {},
   "source": [
    "\n"
   ]
  },
  {
   "cell_type": "markdown",
   "metadata": {},
   "source": [
    "<font size=3 color=black > Here, I have defined a function named KNN which takes as arguments : </font>\n",
    "\n",
    "* The features of train dataset (x_train).\n",
    "* The target values of the train dataset (y).\n",
    "* The features of test dataset (x_test).\n",
    "* The number of neighbors (K).\n",
    "* The type of ML problem : Regression or Classification (prediction).\n",
    "\n",
    "<font size=3 color=black > This function implements the K Nearest Neighbor algorithm based on Euclidean Distance.</font>"
   ]
  },
  {
   "cell_type": "markdown",
   "metadata": {},
   "source": [
    "\n"
   ]
  },
  {
   "cell_type": "code",
   "execution_count": 1,
   "metadata": {},
   "outputs": [],
   "source": [
    "def KNN(x_train,y,x_test,K,prediction=\"Regression\"):\n",
    "    \n",
    "    ed_list=[]\n",
    "    \n",
    "# Here we calculate the euclidean distance of test data point from each train data point and append it to a list.\n",
    "    for i in x_train: \n",
    "        sum=0\n",
    "        for j in range(0,len(i)):\n",
    "            sqr_diff=(i[j]-x_test[j])**2\n",
    "            sum=sum + sqr_diff\n",
    "        ed=(sum**0.5)\n",
    "        ed_list.append(ed)\n",
    "\n",
    "# Creating a dictionary whose keys are the distance of test data point from each train data point\n",
    "# and values are the index of the corresponding train data points.\n",
    "    mapping_dict = {str(d_value) : d_index for d_index,d_value in enumerate(ed_list)}\n",
    "    \n",
    "    ed_list.sort()\n",
    "    \n",
    "# Here we find the index of the k train data points that are nearest to the test data point.\n",
    "    index_of_interest=[mapping_dict[str(ed_value)] for ed_value in ed_list[:K]]\n",
    "    \n",
    "# If it's a regression problem we find the average of the target values of the k nearest data points found above.\n",
    "    if prediction==\"Regression\":\n",
    "        sum_val=0\n",
    "        for i in index_of_interest:\n",
    "            sum_val=sum_val + y[i]\n",
    "        predicted_value=sum_val/K\n",
    "        \n",
    "# If it's a classification task we find the mode of the target values of the k nearest data points.\n",
    "    elif prediction==\"Classification\":\n",
    "        labels=[]\n",
    "        for i in index_of_interst:\n",
    "            labels.append(y[i])\n",
    "        count_dict={}\n",
    "        for i in labels:\n",
    "            count=labels.count(i)\n",
    "            count_dict[str(i)]=count\n",
    "        predicted_value=max(count_dict, key=count_dict.get)\n",
    "        \n",
    "    return(predicted_value)\n",
    "            "
   ]
  },
  {
   "cell_type": "markdown",
   "metadata": {},
   "source": [
    "\n"
   ]
  },
  {
   "cell_type": "markdown",
   "metadata": {},
   "source": [
    "**Example : Regression**"
   ]
  },
  {
   "cell_type": "markdown",
   "metadata": {},
   "source": [
    "<font size=3 color=black > Here we assign the train and test data points. </font>"
   ]
  },
  {
   "cell_type": "code",
   "execution_count": 2,
   "metadata": {},
   "outputs": [],
   "source": [
    "x_matrix = [\n",
    "    [25,56,24,200],\n",
    "    [500,4500,203,0],\n",
    "    [2930,23,231,0],\n",
    "    [10,20,30,45]\n",
    "]\n",
    "\n",
    "y=[100,253,23,54]\n",
    "\n",
    "test_x = [5,30,20,100]"
   ]
  },
  {
   "cell_type": "code",
   "execution_count": 3,
   "metadata": {},
   "outputs": [
    {
     "data": {
      "text/plain": [
       "86.0"
      ]
     },
     "execution_count": 3,
     "metadata": {},
     "output_type": "execute_result"
    }
   ],
   "source": [
    "# Calling the function.\n",
    "KNN(x_matrix,y,test_x,5)"
   ]
  },
  {
   "cell_type": "markdown",
   "metadata": {},
   "source": [
    "\n"
   ]
  },
  {
   "cell_type": "markdown",
   "metadata": {},
   "source": [
    "**Example : Classification**"
   ]
  },
  {
   "cell_type": "code",
   "execution_count": 4,
   "metadata": {},
   "outputs": [],
   "source": [
    "x_train=[[2.7810836,2.550537003],\n",
    "          [1.465489372,2.362125076],\n",
    "          [3.396561688,4.400293529],\n",
    "          [1.38807019,1.850220317],\n",
    "          [3.06407232,3.005305973],\n",
    "          [7.627531214,2.759262235],\n",
    "          [5.332441248,2.088626775],\n",
    "          [6.922596716,1.77106367],\n",
    "          [8.675418651,-0.242068655]]\n",
    "\n",
    "y1=[0,0,0,0,0,1,1,1,1]\n",
    "\n",
    "x_test=[7.673756466,3.508563011]"
   ]
  },
  {
   "cell_type": "code",
   "execution_count": 5,
   "metadata": {},
   "outputs": [
    {
     "data": {
      "text/plain": [
       "1.0"
      ]
     },
     "execution_count": 5,
     "metadata": {},
     "output_type": "execute_result"
    }
   ],
   "source": [
    "# Calling the function.\n",
    "KNN(x_train,y1,x_test,3)"
   ]
  },
  {
   "cell_type": "markdown",
   "metadata": {},
   "source": [
    "\n"
   ]
  },
  {
   "cell_type": "markdown",
   "metadata": {},
   "source": [
    "\n"
   ]
  }
 ],
 "metadata": {
  "kernelspec": {
   "display_name": "Python 3",
   "language": "python",
   "name": "python3"
  },
  "language_info": {
   "codemirror_mode": {
    "name": "ipython",
    "version": 3
   },
   "file_extension": ".py",
   "mimetype": "text/x-python",
   "name": "python",
   "nbconvert_exporter": "python",
   "pygments_lexer": "ipython3",
   "version": "3.8.3"
  }
 },
 "nbformat": 4,
 "nbformat_minor": 4
}
